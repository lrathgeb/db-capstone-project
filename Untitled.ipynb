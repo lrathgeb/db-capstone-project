{
 "cells": [
  {
   "cell_type": "code",
   "execution_count": 1,
   "id": "b46671ba",
   "metadata": {},
   "outputs": [
    {
     "name": "stdout",
     "output_type": "stream",
     "text": [
      "Requirement already satisfied: mysql-connector-python in c:\\users\\lrath\\appdata\\local\\packages\\pythonsoftwarefoundation.python.3.11_qbz5n2kfra8p0\\localcache\\local-packages\\python311\\site-packages (8.0.33)\n",
      "Requirement already satisfied: protobuf<=3.20.3,>=3.11.0 in c:\\users\\lrath\\appdata\\local\\packages\\pythonsoftwarefoundation.python.3.11_qbz5n2kfra8p0\\localcache\\local-packages\\python311\\site-packages (from mysql-connector-python) (3.20.3)\n"
     ]
    }
   ],
   "source": [
    "!pip install mysql-connector-python\n",
    "\n",
    "#Prerequisite environment setup\n",
    "\n",
    "# Import MySQL Connector/Python \n",
    "import mysql.connector as connector\n"
   ]
  },
  {
   "cell_type": "code",
   "execution_count": null,
   "id": "e439633a",
   "metadata": {},
   "outputs": [],
   "source": []
  }
 ],
 "metadata": {
  "kernelspec": {
   "display_name": "Python 3 (ipykernel)",
   "language": "python",
   "name": "python3"
  },
  "language_info": {
   "codemirror_mode": {
    "name": "ipython",
    "version": 3
   },
   "file_extension": ".py",
   "mimetype": "text/x-python",
   "name": "python",
   "nbconvert_exporter": "python",
   "pygments_lexer": "ipython3",
   "version": "3.11.4"
  }
 },
 "nbformat": 4,
 "nbformat_minor": 5
}
